{
 "cells": [
  {
   "cell_type": "markdown",
   "metadata": {},
   "source": [
    "## Solve a quadratic equation, $x^2 + b x + c = 0$.\n",
    "\n",
    "\n",
    "Write a function which receives $b$ and $c$, the coefficients of a monic quadratic polynomial, $x^2 + b x + c$, and returns the pair of its roots. Your function should always return two values, even if quadratic has a double root.\n",
    "\n",
    "For example, given a quadratic $x^2 - 2x + 1$, your function should return a pair of $(1, 1)$. Of course, in floating point, your answers may differ from an exact unity.\n",
    "\n",
    "Your function also must correctly handle complex roots (to this end, you might need the `cmath` module from the standard library)."
   ]
  },
  {
   "cell_type": "code",
   "execution_count": 1,
   "metadata": {},
   "outputs": [],
   "source": [
    "import numpy as np\n",
    "import cmath"
   ]
  },
  {
   "cell_type": "code",
   "execution_count": 79,
   "metadata": {},
   "outputs": [],
   "source": [
    "def solve_quad(b, c):\n",
    "    \"\"\"Solve a quadratic equation, x**2 + bx + c = 0.\n",
    "    \n",
    "    Parameters\n",
    "    ----------\n",
    "    b, c : float\n",
    "       Coefficients\n",
    "       \n",
    "    Returns\n",
    "    -------\n",
    "    x1, x2 : float or complex\n",
    "       Roots.\n",
    "    \"\"\"\n",
    "    d = cmath.sqrt(b**2 - 4*c)\n",
    "    if abs(b)< 1e8:\n",
    "        return np.array([(-b + d)/2, (-b - d)/2])#самый обычный способ решения\n",
    "    else:\n",
    "        \n",
    "        r1 = -b\n",
    "        r2 = -c/b\n",
    "        \n",
    "        return np.array([r1, r2])\n",
    "    \n",
    "    "
   ]
  },
  {
   "cell_type": "code",
   "execution_count": 80,
   "metadata": {},
   "outputs": [
    {
     "data": {
      "text/plain": [
       "array([-1.e+10, -3.e-10])"
      ]
     },
     "execution_count": 80,
     "metadata": {},
     "output_type": "execute_result"
    }
   ],
   "source": [
    "np.roots([1, 1e10, 3])\n"
   ]
  },
  {
   "cell_type": "markdown",
   "metadata": {},
   "source": [
    "Test the your function on several examples against a calculation by hand. Once you're sure that your function works, try these five test cases below. \n",
    "\n",
    "Note that the last two test cases are special: they test whether your function handles extreme cases where a too simple approach is prone to a catastrophic cancellation. Make sure your function passes all five tests.\n",
    "\n",
    "This exercise is graded, each test case contributes a 20% of the grade. "
   ]
  },
  {
   "cell_type": "code",
   "execution_count": 81,
   "metadata": {},
   "outputs": [],
   "source": [
    "from numpy import allclose"
   ]
  },
  {
   "cell_type": "code",
   "execution_count": 82,
   "metadata": {},
   "outputs": [],
   "source": [
    "variants = [{'b': 4.0, 'c': 3.0},\n",
    "            {'b': 2.0, 'c': 1.0},\n",
    "            {'b': 0.5, 'c': 4.0},\n",
    "            {'b': 1e10, 'c': 3.0},\n",
    "            {'b': -1e10, 'c': 4.0},]"
   ]
  },
  {
   "cell_type": "code",
   "execution_count": 83,
   "metadata": {},
   "outputs": [
    {
     "name": "stdout",
     "output_type": "stream",
     "text": [
      "(-1+0j) (-3+0j)\n",
      "True\n",
      "(-1+0j) (-1+0j)\n",
      "True\n",
      "(-0.25+1.984313483298443j) (-0.25-1.984313483298443j)\n",
      "True\n",
      "-10000000000.0 -3e-10\n",
      "True\n",
      "10000000000.0 4e-10\n",
      "True\n"
     ]
    }
   ],
   "source": [
    "for var in variants:\n",
    "    x1, x2 = solve_quad(**var)\n",
    "    print(x1, x2)\n",
    "    print(allclose(x1*x2, var['c']))"
   ]
  },
  {
   "cell_type": "code",
   "execution_count": null,
   "metadata": {},
   "outputs": [],
   "source": []
  },
  {
   "cell_type": "code",
   "execution_count": null,
   "metadata": {},
   "outputs": [],
   "source": []
  },
  {
   "cell_type": "code",
   "execution_count": null,
   "metadata": {},
   "outputs": [],
   "source": []
  }
 ],
 "metadata": {
  "kernelspec": {
   "display_name": "Python 3",
   "language": "python",
   "name": "python3"
  },
  "language_info": {
   "codemirror_mode": {
    "name": "ipython",
    "version": 3
   },
   "file_extension": ".py",
   "mimetype": "text/x-python",
   "name": "python",
   "nbconvert_exporter": "python",
   "pygments_lexer": "ipython3",
   "version": "3.7.5"
  }
 },
 "nbformat": 4,
 "nbformat_minor": 2
}
