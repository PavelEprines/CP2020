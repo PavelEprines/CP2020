{
 "cells": [
  {
   "cell_type": "markdown",
   "metadata": {},
   "source": [
    "# Part I. Root-finding. Newton's iteration."
   ]
  },
  {
   "cell_type": "markdown",
   "metadata": {},
   "source": [
    "Write a function which performs Newton's iteration for a given function $f(x)$ with known derivative $f'(x)$. Your function should find the root of $f(x)$ with a predefined absolute accuracy $\\epsilon$. "
   ]
  },
  {
   "cell_type": "code",
   "execution_count": 35,
   "metadata": {},
   "outputs": [],
   "source": [
    "import numpy as np\n",
    "import matplotlib.pyplot as plt\n"
   ]
  },
  {
   "cell_type": "code",
   "execution_count": 24,
   "metadata": {},
   "outputs": [],
   "source": [
    "def newton_iteration(f, fder, x0, eps=1e-5, maxiter=1000):\n",
    "    \"\"\"Find a root of $f(x) = 0$ via Newton's iteration starting from x0.\n",
    "    \n",
    "    Parameters\n",
    "    ----------\n",
    "    f : callable\n",
    "        The function to find a root of.\n",
    "    fder : callable\n",
    "        The derivative of `f`.\n",
    "    x0 : float\n",
    "        Initial value for the Newton's iteration.\n",
    "    eps : float\n",
    "        The target accuracy. \n",
    "        The iteration stops when the distance between successive iterates is below `eps`.\n",
    "        Default is 1e-5.\n",
    "    maxiter : int\n",
    "        The maximum number of iterations (default is 1000.)\n",
    "        Iterations terminate if the number of iterations exceeds `maxiter`.\n",
    "        This parameter is only needed to avoid infinite loops if iterations wander off.\n",
    "        \n",
    "    Returns\n",
    "    -------\n",
    "    x : float\n",
    "        The estimate for the root.\n",
    "    niter : int\n",
    "        The number of iterations.\n",
    "    \"\"\"\n",
    "    x_old = x0\n",
    "    niter = 0\n",
    "    for i in range(maxiter):\n",
    "        x_new = x_old - f(x_old)/fder(x_old)\n",
    "        niter += 1\n",
    "        d = abs(x_old - x_new)\n",
    "        if (d < eps):\n",
    "            break\n",
    "        x_old = x_new\n",
    "    return x_new, niter"
   ]
  },
  {
   "cell_type": "markdown",
   "metadata": {},
   "source": [
    "### Test I.1 \n",
    "\n",
    "Test your implementation on a simple example, $f(x) = x^2 - 1$ or similar. (20% of the total grade)"
   ]
  },
  {
   "cell_type": "markdown",
   "metadata": {},
   "source": [
    "Парабола выпуклая, поэтому если $x_0$ выбрано так, что $f(x_0) \\geq 0$ то метод ньютона ну никак не сможет пройти в отрицательную область, и наоборот. Так что тут должно быть все прекрасно, можно вообще не париться и написать самый примитивный алгоритм"
   ]
  },
  {
   "cell_type": "code",
   "execution_count": 25,
   "metadata": {},
   "outputs": [
    {
     "data": {
      "text/plain": [
       "(1.000000000000001, 5)"
      ]
     },
     "execution_count": 25,
     "metadata": {},
     "output_type": "execute_result"
    }
   ],
   "source": [
    "newton_iteration(lambda x: x**2 - 1, lambda x: 2*x, 2)"
   ]
  },
  {
   "cell_type": "code",
   "execution_count": 26,
   "metadata": {},
   "outputs": [
    {
     "data": {
      "text/plain": [
       "(-1.0, 6)"
      ]
     },
     "execution_count": 26,
     "metadata": {},
     "output_type": "execute_result"
    }
   ],
   "source": [
    "newton_iteration(lambda x: x**2 - 1, lambda x: 2*x, -3)"
   ]
  },
  {
   "cell_type": "markdown",
   "metadata": {},
   "source": [
    "Наблюдаем, как алгоритму плохеет..."
   ]
  },
  {
   "cell_type": "code",
   "execution_count": 27,
   "metadata": {},
   "outputs": [
    {
     "data": {
      "text/plain": [
       "(1.0000000000139897, 7)"
      ]
     },
     "execution_count": 27,
     "metadata": {},
     "output_type": "execute_result"
    }
   ],
   "source": [
    "newton_iteration(lambda x: x**2 - 1, lambda x: 2*x, 0.1)"
   ]
  },
  {
   "cell_type": "code",
   "execution_count": 28,
   "metadata": {},
   "outputs": [
    {
     "data": {
      "text/plain": [
       "(1.0, 21)"
      ]
     },
     "execution_count": 28,
     "metadata": {},
     "output_type": "execute_result"
    }
   ],
   "source": [
    "newton_iteration(lambda x: x**2 - 1, lambda x: 2*x, 1e-5)"
   ]
  },
  {
   "cell_type": "markdown",
   "metadata": {},
   "source": [
    "### Test I.2\n",
    "\n",
    "Now consider a function which has a multiple root. Take $f(x) = (x^2 - 1)^2$ as an example. Implement a modified Newton's iteraion,\n",
    "\n",
    "$$\n",
    "x_{n+1} = x_{n} - m \\frac{f(x_n)}{f'(x_n)}\n",
    "$$\n",
    "\n",
    "and vary $m= 1, 2, 3, 4, 5$. Check the number of iterations required for convergence within a fixed $\\epsilon$. Are your observations consistent with the expectation that the convergence is quadratic is $m$ equals the multiplicity of the root, and is linear otherwise? (40% of the total grade)"
   ]
  },
  {
   "cell_type": "code",
   "execution_count": 29,
   "metadata": {},
   "outputs": [],
   "source": [
    "def upd_newton_iteration(f, fder, x0, m, eps=1e-5, maxiter=1000):\n",
    "    x_old = x0\n",
    "    niter = 0\n",
    "    for i in range(maxiter):\n",
    "        x_new = x_old - m*f(x_old)/fder(x_old)\n",
    "        niter += 1\n",
    "        d = abs(x_old - x_new)\n",
    "        if (d < eps):\n",
    "            break\n",
    "        x_old = x_new\n",
    "    return x_new, niter"
   ]
  },
  {
   "cell_type": "code",
   "execution_count": 34,
   "metadata": {},
   "outputs": [
    {
     "name": "stdout",
     "output_type": "stream",
     "text": [
      "(1.0000078296573287, 18)\n",
      "(1.0000000000000009, 5)\n",
      "(0.9999978588127855, 17)\n",
      "(0.5, 1003)\n",
      "(-0.7767873152786016, 1003)\n"
     ]
    }
   ],
   "source": [
    "for i in range(5):\n",
    "    print(upd_newton_iteration(lambda x: (x**2 - 1)**2, lambda x: 4*(x**3 - x), 2, 1+i))"
   ]
  },
  {
   "cell_type": "markdown",
   "metadata": {},
   "source": [
    "Действительно, так оно и есть.  \n",
    "При $m = 5$ он видимо просто перескочил корень  \n",
    "При $m = 4$ он просто скачет с 0.5 на 2 и обратно постоянно"
   ]
  },
  {
   "cell_type": "markdown",
   "metadata": {},
   "source": [
    "# Part II. Fixed-point iteration"
   ]
  },
  {
   "cell_type": "markdown",
   "metadata": {},
   "source": [
    "Consider the following equation:\n",
    "\n",
    "$$\n",
    "\\sqrt{x} = \\cos{x}\n",
    "$$\n",
    "\n",
    "Plot the left-hand side and right-hand side of this equation, and localize the root graphically. Estimate the location of the root by visual inspection of the plot.\n",
    "\n",
    "Write a function which finds the solution using fixed-point iteration up to a predefined accuracy $\\epsilon$. Compare the result to an estimate from a visual inspection.\n",
    "\n",
    "Next, rewrite the fixed-point problem in the form\n",
    "\n",
    "$$\n",
    "x = x - \\alpha f(x)\n",
    "$$\n",
    "\n",
    "where $\\alpha$ is the free parameter. Check the dependence of the number of iterations required for a given $\\epsilon$ on $\\alpha$. Compare your results to an expectation that the optimal value of $\\alpha$ is given by \n",
    "\n",
    "$$\n",
    "\\alpha = \\frac{2}{m + M}\n",
    "$$\n",
    "\n",
    "where $0 < m < |f'(x)| < M$ over the localization interval. (40% of the total grade)"
   ]
  },
  {
   "cell_type": "code",
   "execution_count": 60,
   "metadata": {},
   "outputs": [
    {
     "data": {
      "image/png": "[encoded data removed]",
      "text/plain": [
       "<Figure size 1080x720 with 1 Axes>"
      ]
     },
     "metadata": {
      "needs_background": "light"
     },
     "output_type": "display_data"
    }
   ],
   "source": [
    "x = np.linspace(0, 3, 1000)\n",
    "sq = np.sqrt(x)\n",
    "cs = np.cos(x)\n",
    "\n",
    "fig, ax = plt.subplots(figsize = (15, 10))\n",
    "ax.plot(x, sq, label = 'sqrt')\n",
    "ax.plot(x, cs, label = 'cos')\n",
    "ax.set_ylim((-1, 2))\n",
    "ax.legend()\n",
    "ax.vlines(0.65, -1, 1, linestyles = 'dashed')\n",
    "plt.show()"
   ]
  },
  {
   "cell_type": "code",
   "execution_count": 61,
   "metadata": {},
   "outputs": [],
   "source": [
    "def fix(f, x0, alpha = 1, eps=1e-5, maxiter=1000):\n",
    "    n = 0\n",
    "    x_old = x0\n",
    "    for i in range(maxiter):\n",
    "        n += 1\n",
    "        x = x_old - alpha*f(x_old)\n",
    "        if (abs(x_old - x)) < eps:\n",
    "            break\n",
    "        x_old = x\n",
    "    return(x, n)"
   ]
  },
  {
   "cell_type": "code",
   "execution_count": 62,
   "metadata": {},
   "outputs": [],
   "source": [
    "def f(x):\n",
    "    return np.sqrt(x) - np.cos(x)"
   ]
  },
  {
   "cell_type": "code",
   "execution_count": 84,
   "metadata": {},
   "outputs": [
    {
     "data": {
      "text/plain": [
       "(0.6417143708790404, 14)"
      ]
     },
     "execution_count": 84,
     "metadata": {},
     "output_type": "execute_result"
    }
   ],
   "source": [
    "fix(f, 0.65, eps = 1e-10)\n",
    "# теперь проверим как быстро мы сходимся от альфы"
   ]
  },
  {
   "cell_type": "code",
   "execution_count": 90,
   "metadata": {},
   "outputs": [
    {
     "name": "stdout",
     "output_type": "stream",
     "text": [
      "alpha =  -19.95 steps =  1000\n",
      "alpha =  -19.85 steps =  1000\n",
      "alpha =  -19.75 steps =  1000\n",
      "alpha =  -19.65 steps =  1000\n",
      "alpha =  -19.55 steps =  1000\n",
      "alpha =  -19.45 steps =  1000\n",
      "alpha =  -19.35 steps =  1000\n",
      "alpha =  -19.25 steps =  1000\n",
      "alpha =  -19.15 steps =  1000\n",
      "alpha =  -19.05 steps =  1000\n",
      "alpha =  -18.95 steps =  1000\n",
      "alpha =  -18.85 steps =  1000\n",
      "alpha =  -18.75 steps =  1000\n",
      "alpha =  -18.65 steps =  1000\n",
      "alpha =  -18.55 steps =  1000\n",
      "alpha =  -18.45 steps =  1000\n",
      "alpha =  -18.35 steps =  1000\n",
      "alpha =  -18.25 steps =  1000\n",
      "alpha =  -18.15 steps =  1000\n",
      "alpha =  -18.05 steps =  1000\n",
      "alpha =  -17.95 steps =  1000\n",
      "alpha =  -17.85 steps =  1000\n",
      "alpha =  -17.75 steps =  1000\n",
      "alpha =  -17.65 steps =  1000\n",
      "alpha =  -17.55 steps =  1000\n",
      "alpha =  -17.45 steps =  1000\n",
      "alpha =  -17.35 steps =  1000\n",
      "alpha =  -17.25 steps =  1000\n",
      "alpha =  -17.15 steps =  1000\n",
      "alpha =  -17.05 steps =  1000\n",
      "alpha =  -16.95 steps =  1000\n",
      "alpha =  -16.85 steps =  1000\n",
      "alpha =  -16.75 steps =  1000\n",
      "alpha =  -16.65 steps =  1000\n",
      "alpha =  -16.55 steps =  1000\n",
      "alpha =  -16.45 steps =  1000\n",
      "alpha =  -16.35 steps =  1000\n",
      "alpha =  -16.25 steps =  1000\n",
      "alpha =  -16.15 steps =  1000\n",
      "alpha =  -16.05 steps =  1000\n",
      "alpha =  -15.95 steps =  1000\n",
      "alpha =  -15.85 steps =  1000\n",
      "alpha =  -15.75 steps =  1000\n",
      "alpha =  -15.65 steps =  1000\n",
      "alpha =  -15.55 steps =  1000\n",
      "alpha =  -15.45 steps =  1000\n",
      "alpha =  -15.35 steps =  1000\n",
      "alpha =  -15.25 steps =  1000\n",
      "alpha =  -15.15 steps =  1000\n",
      "alpha =  -15.05 steps =  1000\n",
      "alpha =  -14.95 steps =  1000\n",
      "alpha =  -14.85 steps =  1000\n",
      "alpha =  -14.75 steps =  1000\n",
      "alpha =  -14.65 steps =  1000\n",
      "alpha =  -14.55 steps =  1000\n",
      "alpha =  -14.45 steps =  1000\n",
      "alpha =  -14.35 steps =  1000\n",
      "alpha =  -14.25 steps =  1000\n",
      "alpha =  -14.15 steps =  1000\n",
      "alpha =  -14.05 steps =  1000\n",
      "alpha =  -13.95 steps =  1000\n",
      "alpha =  -13.85 steps =  1000\n",
      "alpha =  -13.75 steps =  1000\n",
      "alpha =  -13.65 steps =  1000\n",
      "alpha =  -13.55 steps =  1000\n",
      "alpha =  -13.45 steps =  1000\n",
      "alpha =  -13.35 steps =  1000\n",
      "alpha =  -13.25 steps =  1000\n",
      "alpha =  -13.15 steps =  1000\n",
      "alpha =  -13.05 steps =  1000\n",
      "alpha =  -12.95 steps =  1000\n",
      "alpha =  -12.85 steps =  1000\n",
      "alpha =  -12.75 steps =  1000\n",
      "alpha =  -12.65 steps =  1000\n",
      "alpha =  -12.55 steps =  1000\n",
      "alpha =  -12.45 steps =  1000\n",
      "alpha =  -12.35 steps =  1000\n",
      "alpha =  -12.25 steps =  1000\n",
      "alpha =  -12.15 steps =  1000\n",
      "alpha =  -12.05 steps =  1000\n",
      "alpha =  -11.95 steps =  1000\n",
      "alpha =  -11.85 steps =  1000\n",
      "alpha =  -11.75 steps =  1000\n",
      "alpha =  -11.65 steps =  1000\n",
      "alpha =  -11.55 steps =  1000\n",
      "alpha =  -11.45 steps =  1000\n",
      "alpha =  -11.35 steps =  1000\n",
      "alpha =  -11.25 steps =  1000\n",
      "alpha =  -11.15 steps =  1000\n",
      "alpha =  -11.05 steps =  1000\n",
      "alpha =  -10.95 steps =  1000\n",
      "alpha =  -10.85 steps =  1000\n",
      "alpha =  -10.75 steps =  1000\n",
      "alpha =  -10.65 steps =  1000\n",
      "alpha =  -10.55 steps =  1000\n",
      "alpha =  -10.45 steps =  1000\n",
      "alpha =  -10.35 steps =  1000\n",
      "alpha =  -10.25 steps =  1000\n",
      "alpha =  -10.15 steps =  1000\n",
      "alpha =  -10.05 steps =  1000\n",
      "alpha =  -9.95 steps =  1000\n",
      "alpha =  -9.85 steps =  1000\n",
      "alpha =  -9.75 steps =  1000\n",
      "alpha =  -9.65 steps =  1000\n",
      "alpha =  -9.55 steps =  1000\n",
      "alpha =  -9.45 steps =  1000\n",
      "alpha =  -9.35 steps =  1000\n",
      "alpha =  -9.25 steps =  1000\n",
      "alpha =  -9.15 steps =  1000\n",
      "alpha =  -9.05 steps =  1000\n",
      "alpha =  -8.95 steps =  1000\n",
      "alpha =  -8.85 steps =  1000\n",
      "alpha =  -8.75 steps =  1000\n",
      "alpha =  -8.65 steps =  1000\n",
      "alpha =  -8.55 steps =  1000\n",
      "alpha =  -8.45 steps =  1000\n",
      "alpha =  -8.35 steps =  1000\n",
      "alpha =  -8.25 steps =  1000\n",
      "alpha =  -8.15 steps =  1000\n",
      "alpha =  -8.05 steps =  1000\n",
      "alpha =  -7.95 steps =  1000\n",
      "alpha =  -7.85 steps =  1000\n",
      "alpha =  -7.75 steps =  1000\n",
      "alpha =  -7.65 steps =  1000\n",
      "alpha =  -7.55 steps =  1000\n",
      "alpha =  -7.45 steps =  1000\n",
      "alpha =  -7.35 steps =  1000\n",
      "alpha =  -7.25 steps =  1000\n",
      "alpha =  -7.15 steps =  1000\n",
      "alpha =  -7.05 steps =  1000\n",
      "alpha =  -6.95 steps =  1000\n",
      "alpha =  -6.85 steps =  1000\n",
      "alpha =  -6.75 steps =  1000\n",
      "alpha =  -6.65 steps =  1000\n",
      "alpha =  -6.55 steps =  1000\n",
      "alpha =  -6.45 steps =  1000\n",
      "alpha =  -6.35 steps =  1000\n",
      "alpha =  -6.25 steps =  1000\n",
      "alpha =  -6.15 steps =  1000\n",
      "alpha =  -6.05 steps =  1000\n",
      "alpha =  -5.95 steps =  1000\n",
      "alpha =  -5.85 steps =  1000\n",
      "alpha =  -5.75 steps =  1000\n",
      "alpha =  -5.65 steps =  1000\n",
      "alpha =  -5.55 steps =  1000\n",
      "alpha =  -5.45 steps =  1000\n",
      "alpha =  -5.35 steps =  1000\n",
      "alpha =  -5.25 steps =  1000\n",
      "alpha =  -5.15 steps =  1000\n",
      "alpha =  -5.05 steps =  1000\n",
      "alpha =  -4.95 steps =  1000\n",
      "alpha =  -4.85 steps =  1000\n",
      "alpha =  -4.75 steps =  1000\n",
      "alpha =  -4.65 steps =  1000\n",
      "alpha =  -4.55 steps =  1000\n",
      "alpha =  -4.45 steps =  1000\n",
      "alpha =  -4.35 steps =  1000\n",
      "alpha =  -4.25 steps =  1000\n",
      "alpha =  -4.15 steps =  1000\n",
      "alpha =  -4.05 steps =  1000\n",
      "alpha =  -3.95 steps =  1000\n",
      "alpha =  -3.85 steps =  1000\n",
      "alpha =  -3.75 steps =  1000\n",
      "alpha =  -3.65 steps =  1000\n",
      "alpha =  -3.55 steps =  1000\n",
      "alpha =  -3.45 steps =  1000\n",
      "alpha =  -3.35 steps =  1000\n",
      "alpha =  -3.25 steps =  1000\n",
      "alpha =  -3.15 steps =  1000\n",
      "alpha =  -3.05 steps =  1000\n",
      "alpha =  -2.95 steps =  1000\n",
      "alpha =  -2.85 steps =  1000\n",
      "alpha =  -2.75 steps =  1000\n",
      "alpha =  -2.65 steps =  1000\n",
      "alpha =  -2.55 steps =  1000\n",
      "alpha =  -2.45 steps =  1000\n",
      "alpha =  -2.35 steps =  1000\n",
      "alpha =  -2.25 steps =  1000\n",
      "alpha =  -2.15 steps =  1000\n",
      "alpha =  -2.05 steps =  1000\n",
      "alpha =  -1.95 steps =  1000\n",
      "alpha =  -1.85 steps =  1000\n",
      "alpha =  -1.75 steps =  1000\n",
      "alpha =  -1.65 steps =  1000\n",
      "alpha =  -1.55 steps =  1000\n",
      "alpha =  -1.45 steps =  1000\n",
      "alpha =  -1.35 steps =  1000\n",
      "alpha =  -1.25 steps =  1000\n",
      "alpha =  -1.15 steps =  1000\n",
      "alpha =  -1.05 steps =  1000\n",
      "alpha =  -0.95 steps =  1000\n",
      "alpha =  -0.85 steps =  1000\n",
      "alpha =  -0.75 steps =  1000\n",
      "alpha =  -0.65 steps =  1000\n",
      "alpha =  -0.55 steps =  1000\n",
      "alpha =  -0.45 steps =  1000\n",
      "alpha =  -0.35 steps =  1000\n",
      "alpha =  -0.25 steps =  1000\n",
      "alpha =  -0.15 steps =  1000\n",
      "alpha =  -0.05 steps =  1000\n",
      "alpha =  0.05 steps =  64\n",
      "alpha =  0.15 steps =  26\n",
      "alpha =  0.25 steps =  17\n",
      "alpha =  0.35 steps =  12\n",
      "alpha =  0.45 steps =  9\n",
      "alpha =  0.55 steps =  7\n",
      "alpha =  0.65 steps =  6\n",
      "alpha =  0.75 steps =  4\n",
      "alpha =  0.85 steps =  4\n",
      "alpha =  0.95 steps =  5\n",
      "alpha =  1.05 steps =  7\n",
      "alpha =  1.15 steps =  9\n",
      "alpha =  1.25 steps =  13\n",
      "alpha =  1.35 steps =  18\n",
      "alpha =  1.45 steps =  30\n",
      "alpha =  1.55 steps =  68\n",
      "alpha =  1.65 steps =  1000\n",
      "alpha =  1.75 steps =  1000\n",
      "alpha =  1.85 steps =  1000\n",
      "alpha =  1.95 steps =  1000\n",
      "alpha =  2.05 steps =  1000\n",
      "alpha =  2.15 steps =  1000\n",
      "alpha =  2.25 steps =  1000\n",
      "alpha =  2.35 steps =  1000\n",
      "alpha =  2.45 steps =  1000\n",
      "alpha =  2.55 steps =  1000\n",
      "alpha =  2.65 steps =  1000\n",
      "alpha =  2.75 steps =  1000\n",
      "alpha =  2.85 steps =  1000\n",
      "alpha =  2.95 steps =  1000\n",
      "alpha =  3.05 steps =  1000\n",
      "alpha = "
     ]
    },
    {
     "name": "stderr",
     "output_type": "stream",
     "text": [
      "/home/pavel/anaconda3/lib/python3.7/site-packages/ipykernel_launcher.py:2: RuntimeWarning: invalid value encountered in sqrt\n",
      "  \n"
     ]
    },
    {
     "name": "stdout",
     "output_type": "stream",
     "text": [
      " 3.15 steps =  1000\n",
      "alpha =  3.25 steps =  1000\n",
      "alpha =  3.35 steps =  1000\n",
      "alpha =  3.45 steps =  1000\n",
      "alpha =  3.55 steps =  1000\n",
      "alpha =  3.65 steps =  1000\n",
      "alpha =  3.75 steps =  1000\n",
      "alpha =  3.85 steps =  1000\n",
      "alpha =  3.95 steps =  1000\n",
      "alpha =  4.05 steps =  1000\n",
      "alpha =  4.15 steps =  1000\n",
      "alpha =  4.25 steps =  1000\n",
      "alpha =  4.35 steps =  1000\n",
      "alpha =  4.45 steps =  1000\n",
      "alpha =  4.55 steps =  1000\n",
      "alpha =  4.65 steps =  1000\n",
      "alpha =  4.75 steps =  1000\n",
      "alpha =  4.85 steps =  1000\n",
      "alpha =  4.95 steps =  1000\n",
      "alpha =  5.05 steps =  1000\n",
      "alpha =  5.15 steps =  1000\n",
      "alpha =  5.25 steps =  1000\n",
      "alpha =  5.35 steps =  1000\n",
      "alpha =  5.45 steps =  1000\n",
      "alpha =  5.55 steps =  1000\n",
      "alpha =  5.65 steps =  1000\n",
      "alpha =  5.75 steps =  1000\n",
      "alpha =  5.85 steps =  1000\n",
      "alpha =  5.95 steps =  1000\n",
      "alpha =  6.05 steps =  1000\n",
      "alpha =  6.15 steps =  1000\n",
      "alpha =  6.25 steps =  1000\n",
      "alpha =  6.35 steps =  1000\n",
      "alpha =  6.45 steps =  1000\n",
      "alpha =  6.55 steps =  1000\n",
      "alpha =  6.65 steps =  1000\n",
      "alpha =  6.75 steps =  1000\n",
      "alpha =  6.85 steps =  1000\n",
      "alpha =  6.95 steps =  1000\n",
      "alpha =  7.05 steps =  1000\n",
      "alpha =  7.15 steps =  1000\n",
      "alpha =  7.25 steps =  1000\n",
      "alpha =  7.35 steps =  1000\n",
      "alpha =  7.45 steps =  1000\n",
      "alpha =  7.55 steps =  1000\n",
      "alpha =  7.65 steps =  1000\n",
      "alpha =  7.75 steps =  1000\n",
      "alpha =  7.85 steps =  1000\n",
      "alpha =  7.95 steps =  1000\n",
      "alpha =  8.05 steps =  1000\n",
      "alpha =  8.15 steps =  1000\n",
      "alpha =  8.25 steps =  1000\n",
      "alpha =  8.35 steps =  1000\n",
      "alpha =  8.45 steps =  1000\n",
      "alpha =  8.55 steps =  1000\n",
      "alpha =  8.65 steps =  1000\n",
      "alpha =  8.75 steps =  1000\n",
      "alpha =  8.85 steps =  1000\n",
      "alpha =  8.95 steps =  1000\n",
      "alpha =  9.05 steps =  1000\n",
      "alpha =  9.15 steps =  1000\n",
      "alpha =  9.25 steps =  1000\n",
      "alpha =  9.35 steps =  1000\n",
      "alpha =  9.45 steps =  1000\n",
      "alpha =  9.55 steps =  1000\n",
      "alpha =  9.65 steps =  1000\n",
      "alpha =  9.75 steps =  1000\n",
      "alpha =  9.85 steps =  1000\n",
      "alpha =  9.95 steps =  1000\n",
      "alpha =  10.05 steps =  1000\n",
      "alpha =  10.15 steps =  1000\n",
      "alpha =  10.25 steps =  1000\n",
      "alpha =  10.35 steps =  1000\n",
      "alpha =  10.45 steps =  1000\n",
      "alpha =  10.55 steps =  1000\n",
      "alpha =  10.65 steps =  1000\n",
      "alpha =  10.75 steps =  1000\n",
      "alpha =  10.85 steps =  1000\n",
      "alpha =  10.95 steps =  1000\n",
      "alpha =  11.05 steps =  1000\n",
      "alpha =  11.15 steps =  1000\n",
      "alpha =  11.25 steps =  1000\n",
      "alpha =  11.35 steps =  1000\n",
      "alpha =  11.45 steps =  1000\n",
      "alpha =  11.55 steps =  1000\n",
      "alpha =  11.65 steps =  1000\n",
      "alpha =  11.75 steps =  1000\n",
      "alpha =  11.85 steps =  1000\n",
      "alpha =  11.95 steps =  1000\n",
      "alpha =  12.05 steps =  1000\n",
      "alpha =  12.15 steps =  1000\n",
      "alpha =  12.25 steps =  1000\n",
      "alpha =  12.35 steps =  1000\n",
      "alpha =  12.45 steps =  1000\n",
      "alpha =  12.55 steps =  1000\n",
      "alpha =  12.65 steps =  1000\n",
      "alpha =  12.75 steps =  1000\n",
      "alpha =  12.85 steps =  1000\n",
      "alpha =  12.95 steps =  1000\n",
      "alpha =  13.05 steps =  1000\n",
      "alpha =  13.15 steps =  1000\n",
      "alpha =  13.25 steps =  1000\n",
      "alpha =  13.35 steps =  1000\n",
      "alpha =  13.45 steps =  1000\n",
      "alpha =  13.55 steps =  1000\n",
      "alpha =  13.65 steps =  1000\n",
      "alpha =  13.75 steps =  1000\n",
      "alpha =  13.85 steps =  1000\n",
      "alpha =  13.95 steps =  1000\n",
      "alpha =  14.05 steps =  1000\n",
      "alpha =  14.15 steps =  1000\n",
      "alpha =  14.25 steps =  1000\n",
      "alpha =  14.35 steps =  1000\n",
      "alpha =  14.45 steps =  1000\n",
      "alpha =  14.55 steps =  1000\n",
      "alpha =  14.65 steps =  1000\n",
      "alpha =  14.75 steps =  1000\n",
      "alpha =  14.85 steps =  1000\n",
      "alpha =  14.95 steps =  1000\n",
      "alpha =  15.05 steps =  1000\n",
      "alpha =  15.15 steps =  1000\n",
      "alpha =  15.25 steps =  1000\n",
      "alpha =  15.35 steps =  1000\n",
      "alpha =  15.45 steps =  1000\n",
      "alpha =  15.55 steps =  1000\n",
      "alpha =  15.65 steps =  1000\n",
      "alpha =  15.75 steps =  1000\n",
      "alpha =  15.85 steps =  1000\n",
      "alpha =  15.95 steps =  1000\n",
      "alpha =  16.05 steps =  1000\n",
      "alpha =  16.15 steps =  1000\n",
      "alpha =  16.25 steps =  1000\n",
      "alpha =  16.35 steps =  1000\n",
      "alpha =  16.45 steps =  1000\n",
      "alpha =  16.55 steps =  1000\n",
      "alpha =  16.65 steps =  1000\n",
      "alpha =  16.75 steps =  1000\n",
      "alpha =  16.85 steps =  1000\n",
      "alpha =  16.95 steps =  1000\n",
      "alpha =  17.05 steps =  1000\n",
      "alpha =  17.15 steps =  1000\n",
      "alpha =  17.25 steps =  1000\n",
      "alpha =  17.35 steps =  1000\n",
      "alpha =  17.45 steps =  1000\n",
      "alpha =  17.55 steps =  1000\n",
      "alpha =  17.65 steps =  1000\n",
      "alpha =  17.75 steps =  1000\n",
      "alpha =  17.85 steps =  1000\n",
      "alpha =  17.95 steps =  1000\n",
      "alpha =  18.05 steps =  1000\n",
      "alpha =  18.15 steps =  1000\n",
      "alpha =  18.25 steps =  1000\n",
      "alpha =  18.35 steps =  1000\n",
      "alpha =  18.45 steps =  1000\n",
      "alpha =  18.55 steps =  1000\n",
      "alpha =  18.65 steps =  1000\n",
      "alpha =  18.75 steps =  1000\n",
      "alpha =  18.85 steps =  1000\n",
      "alpha =  18.95 steps =  1000\n",
      "alpha =  19.05 steps =  1000\n",
      "alpha =  19.15 steps =  1000\n",
      "alpha =  19.25 steps =  1000\n",
      "alpha =  19.35 steps =  1000\n",
      "alpha =  19.45 steps =  1000\n",
      "alpha =  19.55 steps =  1000\n",
      "alpha =  19.65 steps =  1000\n",
      "alpha =  19.75 steps =  1000\n",
      "alpha =  19.85 steps =  1000\n",
      "alpha =  19.95 steps =  1000\n"
     ]
    }
   ],
   "source": [
    "a = np.arange(-19.95, 20, 0.1) #пределы кривые, чтоб в ноль не попасть\n",
    "for i in a:\n",
    "    print('alpha = ',round(i, 4) ,'steps = ', fix(f, 0.65, alpha = i)[1])"
   ]
  },
  {
   "cell_type": "markdown",
   "metadata": {},
   "source": [
    "При орицательных не сходится вообще, ну оно и логично, производная то у функции положительна. При больших тоже, потму что наша константа липшица вылетае за 1 и принцип сжимающих отображений не работает. Минимум был на 0.75 - 0.85  \n",
    "У нас есть графическое приближение корня где-то в райное 0.65. Тогда производная функции $\\approx \\dfrac{1}{2\\sqrt{0.65}} + sin(0.65) \\approx  1.23$ То есть по идее оптимум должен быть при альфа где-то 0.8 Ну мы так и видим.  \n",
    "Ну давайте ближе смотреть на окрестность от 0.7 до 1, заодно уменьшим эпсилон, чтобы разрешение получше было."
   ]
  },
  {
   "cell_type": "code",
   "execution_count": 93,
   "metadata": {},
   "outputs": [
    {
     "name": "stdout",
     "output_type": "stream",
     "text": [
      "1.2253600786820817\n",
      "0.816086648649053\n",
      "0.8156701027290181  это посчитано по формуле лектора, но моя оценка ничуть не хуже\n"
     ]
    }
   ],
   "source": [
    "def dder(x):\n",
    "    return 1/(2*np.sqrt(x)) + np.sin(x)\n",
    "print(dder(0.65))\n",
    "print(1/dder(0.65))\n",
    "print(2/(dder(0.7)+dder(0.6)), ' это посчитано по формуле лектора, но моя оценка ничуть не хуже')"
   ]
  },
  {
   "cell_type": "code",
   "execution_count": 92,
   "metadata": {},
   "outputs": [
    {
     "name": "stdout",
     "output_type": "stream",
     "text": [
      "alpha =  0.7 steps =  11\n",
      "alpha =  0.71 steps =  10\n",
      "alpha =  0.72 steps =  10\n",
      "alpha =  0.73 steps =  10\n",
      "alpha =  0.74 steps =  9\n",
      "alpha =  0.75 steps =  9\n",
      "alpha =  0.76 steps =  8\n",
      "alpha =  0.77 steps =  8\n",
      "alpha =  0.78 steps =  7\n",
      "alpha =  0.79 steps =  7\n",
      "alpha =  0.8 steps =  6\n",
      "alpha =  0.81 steps =  5\n",
      "alpha =  0.82 steps =  5\n",
      "alpha =  0.83 steps =  6\n",
      "alpha =  0.84 steps =  7\n",
      "alpha =  0.85 steps =  7\n",
      "alpha =  0.86 steps =  8\n",
      "alpha =  0.87 steps =  8\n",
      "alpha =  0.88 steps =  9\n",
      "alpha =  0.89 steps =  9\n",
      "alpha =  0.9 steps =  9\n",
      "alpha =  0.91 steps =  10\n",
      "alpha =  0.92 steps =  10\n",
      "alpha =  0.93 steps =  11\n",
      "alpha =  0.94 steps =  11\n",
      "alpha =  0.95 steps =  12\n",
      "alpha =  0.96 steps =  12\n",
      "alpha =  0.97 steps =  12\n",
      "alpha =  0.98 steps =  13\n",
      "alpha =  0.99 steps =  13\n",
      "alpha =  1.0 steps =  14\n"
     ]
    }
   ],
   "source": [
    "k = np.arange(0.7, 1, 0.01)\n",
    "for i in k:\n",
    "    print('alpha = ',round(i, 4) ,'steps = ', fix(f, 0.65, alpha = i, eps = 1e-10)[1])"
   ]
  },
  {
   "cell_type": "markdown",
   "metadata": {},
   "source": [
    "Оптимум для альфы как раз на 0.81-0.82, как теория и предсказывала. Функан сила"
   ]
  },
  {
   "cell_type": "markdown",
   "metadata": {},
   "source": [
    "# Part III. Newton's fractal.\n",
    "\n",
    "(Not graded). \n",
    "\n",
    "Consider the equation\n",
    "\n",
    "$$\n",
    "x^3 = 1\n",
    "$$\n",
    "\n",
    "It has three solutions in the complex plane, $x_k = \\exp(i\\, 2\\pi k/ 3)$, $k = 0, 1, 2$.\n",
    "\n",
    "The Newton's iterations converge to one of these solutions, depending on the starting point in the complex plane (to converge to a complex-valued solution, the iteration needs a complex-valued starting point).\n",
    "\n",
    "Plot the \\emph{basins of attraction} of these roots on the complex plane of $x$ (i.e., on the plane $\\mathrm{Re}x$ -- $\\mathrm{Im}x$). To this end, make a series of calculations, varying the initial conditions on a grid of points. \n",
    "Color the grid in three colors, according to the root, to which iterations converged."
   ]
  },
  {
   "cell_type": "code",
   "execution_count": 191,
   "metadata": {},
   "outputs": [],
   "source": [
    "# готовим массим точек\n",
    "a = np.linspace(-2, 2, 1000)\n",
    "A = [(x, y) for x in a for y in a]"
   ]
  },
  {
   "cell_type": "code",
   "execution_count": 192,
   "metadata": {},
   "outputs": [],
   "source": [
    "def sol(x0, alpha = 0.1,  eps = 1e-7, maxiter = 1000):\n",
    "    x_old = x0\n",
    "    for i in range(maxiter):\n",
    "        x = x_old - (x_old**3 - 1)/(3*x_old**2)\n",
    "        if (abs(x_old - x)) < eps:\n",
    "            break\n",
    "        x_old = x\n",
    "    return x "
   ]
  },
  {
   "cell_type": "code",
   "execution_count": 193,
   "metadata": {},
   "outputs": [
    {
     "data": {
      "text/plain": [
       "(-0.49999999999999933-0.866025403784439j)"
      ]
     },
     "execution_count": 193,
     "metadata": {},
     "output_type": "execute_result"
    }
   ],
   "source": [
    "sol(-2-2j) # оно сходится"
   ]
  },
  {
   "cell_type": "code",
   "execution_count": null,
   "metadata": {},
   "outputs": [],
   "source": []
  },
  {
   "cell_type": "code",
   "execution_count": 194,
   "metadata": {},
   "outputs": [],
   "source": [
    "red = []\n",
    "blue = []\n",
    "green = []\n",
    "for i in A:\n",
    "    point = sol(i[0] + i[1]*1j)\n",
    "    if abs(1 - point) < 1e-3:\n",
    "        red.append(i)\n",
    "    elif abs(-0.5 + 0.8660254037844386j - point )<1e-3:\n",
    "        blue.append(i)\n",
    "    elif abs(-0.5 - 0.8660254037844386j - point )<1e-3:\n",
    "        green.append(i)\n",
    "        \n",
    "red = np.array(red)\n",
    "blue = np.array(blue)\n",
    "green = np.array(green)"
   ]
  },
  {
   "cell_type": "code",
   "execution_count": null,
   "metadata": {},
   "outputs": [],
   "source": []
  },
  {
   "cell_type": "code",
   "execution_count": 212,
   "metadata": {},
   "outputs": [
    {
     "data": {
      "image/png": "[encoded data removed]",
      "text/plain": [
       "<Figure size 720x720 with 1 Axes>"
      ]
     },
     "metadata": {
      "needs_background": "light"
     },
     "output_type": "display_data"
    }
   ],
   "source": [
    "fig, ax = plt.subplots(figsize = (10, 10))\n",
    "ax.plot(red[:,0], red[:, 1], '.', c = 'r', alpha = 0.1)\n",
    "ax.plot(blue[:,0], blue[:, 1],'.', c = 'b', alpha = 0.1)\n",
    "ax.plot(green[:,0], green[:, 1], '.',  c = 'g', alpha = 0.1)\n",
    "plt.show()"
   ]
  },
  {
   "cell_type": "code",
   "execution_count": null,
   "metadata": {},
   "outputs": [],
   "source": []
  }
 ],
 "metadata": {
  "kernelspec": {
   "display_name": "Python 3",
   "language": "python",
   "name": "python3"
  },
  "language_info": {
   "codemirror_mode": {
    "name": "ipython",
    "version": 3
   },
   "file_extension": ".py",
   "mimetype": "text/x-python",
   "name": "python",
   "nbconvert_exporter": "python",
   "pygments_lexer": "ipython3",
   "version": "3.7.5"
  }
 },
 "nbformat": 4,
 "nbformat_minor": 2
}
