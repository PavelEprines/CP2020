{
 "cells": [
  {
   "cell_type": "code",
   "execution_count": 1,
   "metadata": {},
   "outputs": [],
   "source": [
    "import numpy as np\n",
    "\n",
    "from numpy.testing import assert_allclose"
   ]
  },
  {
   "cell_type": "markdown",
   "metadata": {},
   "source": [
    "# Part I. Construct a Householder reflection of a vector."
   ]
  },
  {
   "cell_type": "markdown",
   "metadata": {},
   "source": [
    "Given a vector $\\mathbf{x}$, and a plane with a normal vector $\\mathbf{u}$, the Householder transformation reflects $\\mathbf{x}$ about the plane.\n",
    "\n",
    "The matrix of the Householder transformation is\n",
    "\n",
    "$$\n",
    "\\mathbf{H} = \\mathbf{1} - 2 \\mathbf{u} \\mathbf{u}^T\n",
    "$$\n",
    "\n",
    "Given two equal-length vectors $\\mathbf{x}$ and $\\mathbf{y}$, a rotation which brings $\\mathbf{x}$ to $\\mathbf{y}$ is a Householder transform with\n",
    "\n",
    "$$\n",
    "\\mathbf{u} = \\frac{\\mathbf{x} - \\mathbf{y}}{\\left|\\mathbf{x} - \\mathbf{y}\\right|}\n",
    "$$"
   ]
  },
  {
   "cell_type": "markdown",
   "metadata": {},
   "source": [
    "Write a function which rotates a given vector, $\\mathbf{x} = (x_1, \\dots, x_n)$ into $\\mathbf{y} = (\\left|\\mathbf{x}\\right|, 0, \\dots, 0)^T$ using a Householder transformation."
   ]
  },
  {
   "cell_type": "code",
   "execution_count": 2,
   "metadata": {},
   "outputs": [],
   "source": [
    "def householder(vec):\n",
    "    \"\"\"Construct a Householder reflection to zero out 2nd and further components of a vector.\n",
    "\n",
    "    Parameters\n",
    "    ----------\n",
    "    vec : array-like of floats, shape (n,)\n",
    "        Input vector\n",
    "    \n",
    "    Returns\n",
    "    -------\n",
    "    outvec : array of floats, shape (n,)\n",
    "        Transformed vector, with ``outvec[1:]==0`` and ``|outvec| == |vec|``\n",
    "    H : array of floats, shape (n, n)\n",
    "        Orthogonal matrix of the Householder reflection\n",
    "    \"\"\"\n",
    "    vec = np.asarray(vec, dtype=float)\n",
    "    if vec.ndim != 1:\n",
    "        raise ValueError(\"vec.ndim = %s, expected 1\" % vec.ndim)\n",
    "    \n",
    "    n = len(vec)\n",
    "    norm = np.linalg.norm(vec)\n",
    "    y = np.zeros_like(vec)\n",
    "    y[0] = norm\n",
    "    u = (vec -  y)/np.linalg.norm(vec - y)\n",
    "    H = np.eye(n) - 2*np.outer(u, u)\n",
    "    return y, H"
   ]
  },
  {
   "cell_type": "code",
   "execution_count": 3,
   "metadata": {},
   "outputs": [
    {
     "data": {
      "text/plain": [
       "array([3.74165739, 0.        , 0.        ])"
      ]
     },
     "execution_count": 3,
     "metadata": {},
     "output_type": "execute_result"
    }
   ],
   "source": [
    "v = np.array([1, 2, 3])\n",
    "v1, h = householder(v)\n",
    "v1"
   ]
  },
  {
   "cell_type": "markdown",
   "metadata": {},
   "source": [
    "Test your function using tests below:"
   ]
  },
  {
   "cell_type": "code",
   "execution_count": 4,
   "metadata": {},
   "outputs": [],
   "source": [
    "# Test I.1 (10% of the total grade).\n",
    "\n",
    "v = np.array([1, 2, 3])\n",
    "v1, h = householder(v)\n",
    "\n",
    "assert_allclose(np.dot(h, v1), v)\n",
    "assert_allclose(np.dot(h, v), v1, atol = 1e-15) # не, ну слушайте, когда он с ошибкой 1е-16 не проходил тест \n",
    "#это слишком было, как я точнее то сделаю?"
   ]
  },
  {
   "cell_type": "code",
   "execution_count": 5,
   "metadata": {},
   "outputs": [],
   "source": [
    "# Test I.2 (10% of the total grade).\n",
    "\n",
    "rndm = np.random.RandomState(1234)\n",
    "\n",
    "vec = rndm.uniform(size=7)\n",
    "v1, h = householder(vec)\n",
    "\n",
    "assert_allclose(np.dot(h, v1), vec)"
   ]
  },
  {
   "cell_type": "markdown",
   "metadata": {},
   "source": [
    "# Part II. Compute the $\\mathrm{QR}$ decomposition of a matrix.\n",
    "\n",
    "Given a rectangular $m\\times n$ matrix $\\mathbf{A}$, construct a Householder reflector matrix $\\mathbf{H}_1$ which transforms the first column of $\\mathbf{A}$ (and call the result $\\mathbf{A}^{(1)}$)\n",
    "\n",
    "$$\n",
    "\\mathbf{H}_1 \\mathbf{A} =%\n",
    "\\begin{pmatrix}\n",
    "\\times & \\times & \\times & \\dots & \\times \\\\\n",
    "0      & \\times & \\times & \\dots & \\times \\\\\n",
    "0      & \\times & \\times & \\dots & \\times \\\\\n",
    "&& \\dots&& \\\\\n",
    "0      & \\times & \\times & \\dots & \\times \\\\\n",
    "\\end{pmatrix}%\n",
    "\\equiv \\mathbf{A}^{(1)}\\;.\n",
    "$$\n",
    "\n",
    "Now consider the lower-right submatrix of $\\mathbf{A}^{(1)}$, and construct a Householder reflector which annihilates the second column of $\\mathbf{A}$:\n",
    "\n",
    "$$\n",
    "\\mathbf{H}_2 \\mathbf{A}^{(1)} =%\n",
    "\\begin{pmatrix}\n",
    "\\times & \\times & \\times & \\dots & \\times \\\\\n",
    "0      & \\times & \\times & \\dots & \\times \\\\\n",
    "0      & 0      & \\times & \\dots & \\times \\\\\n",
    "&& \\dots&& \\\\\n",
    "0      & 0      & \\times & \\dots & \\times \\\\\n",
    "\\end{pmatrix}%\n",
    "\\equiv \\mathbf{A}^{(2)} \\;.\n",
    "$$\n",
    "\n",
    "Repeating the process $n-1$ times, we obtain\n",
    "\n",
    "$$\n",
    "\\mathbf{H}_{n-1} \\cdots \\mathbf{H}_2 \\mathbf{H}_1 \\mathbf{A} = \\mathbf{R} \\;,\n",
    "$$\n",
    "\n",
    "with $\\mathbf{R}$ an upper triangular matrix. Since each $\\mathbf{H}_k$ is orthogonal, so is their product. The inverse of an orthogonal matrix is orthogonal. Hence the process generates the $\\mathrm{QR}$ decomposition of $\\mathbf{A}$. "
   ]
  },
  {
   "cell_type": "markdown",
   "metadata": {},
   "source": [
    "Write a function, which receives a recangular matrix, $A$, and returns the Q and R factors of the $QR$ factorization of $A$."
   ]
  },
  {
   "cell_type": "code",
   "execution_count": 6,
   "metadata": {},
   "outputs": [],
   "source": [
    "def updhouseholder(vec, m): #это тоже будет выдавать нужную матрицу только функция изменена, так, чтобы  \n",
    "    # выдавала m*m, прошлая конструкция работала не так.\n",
    "    n = len(vec)\n",
    "    norm = np.linalg.norm(vec)\n",
    "    y = np.zeros(n)\n",
    "    y[0] = norm\n",
    "    u = (vec -  y)/np.linalg.norm(vec - y)\n",
    "    u = np.concatenate((np.zeros(m-n), u))\n",
    "    H = np.eye(m) - 2*np.outer(u, u)\n",
    "    return H  "
   ]
  },
  {
   "cell_type": "code",
   "execution_count": 7,
   "metadata": {},
   "outputs": [],
   "source": [
    "def qr_decomp(a):\n",
    "    \"\"\"Compute the QR decomposition of a matrix.\n",
    "    \n",
    "    Parameters\n",
    "    ----------\n",
    "    a : ndarray, shape(m, n)\n",
    "        The input matrix\n",
    "    \n",
    "    Returns\n",
    "    -------\n",
    "    q : ndarray, shape(m, m)\n",
    "        The orthogonal matrix\n",
    "    r : ndarray, shape(m, n)\n",
    "        The upper triangular matrix\n",
    "        \n",
    "    Examples\n",
    "    --------\n",
    "    >>> a = np.random.random(size=(3, 5))\n",
    "    >>> q, r = qr_decomp(a)\n",
    "    >>> np.assert_allclose(np.dot(q, r), a)\n",
    "    \n",
    "    \"\"\"\n",
    "    a1 = np.array(a, copy=True, dtype=float)\n",
    "    m, n = a1.shape\n",
    "    Q = np.eye(m)\n",
    "    for i in range(n):\n",
    "        vec = a1[i:, i]\n",
    "        H = updhouseholder(vec, m)\n",
    "        a1 = H@a1\n",
    "        Q = H@Q\n",
    "    #print('R = ', a1)\n",
    "    #print(len(storage))\n",
    "    #print('Q =', Q)\n",
    "    return Q.T, a1"
   ]
  },
  {
   "cell_type": "code",
   "execution_count": 8,
   "metadata": {},
   "outputs": [],
   "source": [
    "# Might want to turn this on for prettier printing: zeros instead of `1e-16` etc\n",
    "\n",
    "np.set_printoptions(suppress=True)"
   ]
  },
  {
   "cell_type": "code",
   "execution_count": 9,
   "metadata": {},
   "outputs": [],
   "source": [
    "# Test II.1 (20% of the total grade) #офигеть, прошел, сам не верю\n",
    "\n",
    "rndm = np.random.RandomState(1234)\n",
    "a = rndm.uniform(size=(5, 3))\n",
    "q, r = qr_decomp(a)\n",
    "\n",
    "# test that Q is indeed orthogonal\n",
    "assert_allclose(np.dot(q, q.T), np.eye(5), atol=1e-10)\n",
    "\n",
    "# test the decomposition itself\n",
    "assert_allclose(np.dot(q, r), a)"
   ]
  },
  {
   "cell_type": "markdown",
   "metadata": {},
   "source": [
    "Now compare your decompositions to the library function (which actually wraps the corresponding LAPACK functions)"
   ]
  },
  {
   "cell_type": "code",
   "execution_count": 47,
   "metadata": {},
   "outputs": [
    {
     "data": {
      "text/plain": [
       "array([[-1.40152769, -1.2514379 , -0.89523615],\n",
       "       [ 0.        ,  0.84158252,  0.68447942],\n",
       "       [ 0.        ,  0.        , -0.5496046 ],\n",
       "       [ 0.        ,  0.        ,  0.        ],\n",
       "       [ 0.        ,  0.        ,  0.        ]])"
      ]
     },
     "execution_count": 47,
     "metadata": {},
     "output_type": "execute_result"
    }
   ],
   "source": [
    "from scipy.linalg import qr\n",
    "qq, rr = qr(a)\n",
    "\n",
    "assert_allclose(np.dot(qq, rr), a)\n",
    "\n",
    "rr"
   ]
  },
  {
   "cell_type": "code",
   "execution_count": 48,
   "metadata": {},
   "outputs": [
    {
     "data": {
      "text/plain": [
       "array([[ 1.40152769,  1.2514379 ,  0.89523615],\n",
       "       [ 0.        ,  0.84158252,  0.68447942],\n",
       "       [ 0.        , -0.        ,  0.5496046 ],\n",
       "       [ 0.        ,  0.        ,  0.        ],\n",
       "       [ 0.        , -0.        , -0.        ]])"
      ]
     },
     "execution_count": 48,
     "metadata": {},
     "output_type": "execute_result"
    }
   ],
   "source": [
    "r"
   ]
  },
  {
   "cell_type": "code",
   "execution_count": 49,
   "metadata": {},
   "outputs": [
    {
     "data": {
      "text/plain": [
       "array([[-0.13665049,  0.53601299,  0.09369752,  0.661619  , -0.49749149],\n",
       "       [-0.56035895,  0.0935397 ,  0.53326881, -0.52477245, -0.34276292],\n",
       "       [-0.19725922,  0.65948912, -0.60068463, -0.37879015,  0.14784752],\n",
       "       [-0.62498418, -0.50418303, -0.52144688,  0.18967657, -0.21750907],\n",
       "       [-0.48765568,  0.12171264,  0.27224305,  0.32774225,  0.75222783]])"
      ]
     },
     "execution_count": 49,
     "metadata": {},
     "output_type": "execute_result"
    }
   ],
   "source": [
    "qq"
   ]
  },
  {
   "cell_type": "code",
   "execution_count": 50,
   "metadata": {},
   "outputs": [
    {
     "data": {
      "text/plain": [
       "array([[ 0.13665049,  0.53601299, -0.09369752,  0.7697136 ,  0.30459557],\n",
       "       [ 0.56035895,  0.0935397 , -0.53326881,  0.01839528, -0.62652547],\n",
       "       [ 0.19725922,  0.65948912,  0.60068463, -0.32384673, -0.24589462],\n",
       "       [ 0.62498418, -0.50418303,  0.52144688,  0.28453698,  0.04822969],\n",
       "       [ 0.48765568,  0.12171264, -0.27224305, -0.47049398,  0.67223293]])"
      ]
     },
     "execution_count": 50,
     "metadata": {},
     "output_type": "execute_result"
    }
   ],
   "source": [
    "q"
   ]
  },
  {
   "cell_type": "code",
   "execution_count": 51,
   "metadata": {},
   "outputs": [
    {
     "data": {
      "text/plain": [
       "array([[-0., -0.,  0.],\n",
       "       [ 0., -0., -0.],\n",
       "       [-0.,  0.,  0.],\n",
       "       [ 0., -0.,  0.],\n",
       "       [ 0.,  0.,  0.]])"
      ]
     },
     "execution_count": 51,
     "metadata": {},
     "output_type": "execute_result"
    }
   ],
   "source": [
    "qq@rr - q@r"
   ]
  },
  {
   "cell_type": "markdown",
   "metadata": {},
   "source": [
    "Интересно, получается некоторые знаки отличаются, но они стоят так, что на  собирание обратно исходной матрицы не влияют. Видимо QR разложение просто неединственно. Ну действительно, заведем такую диагональную матрицу $L$, у которой на диагонали стоят либо $1$, либо $-1$. Очевидно, что $L^2 = 1$.  \n",
    "Тогда сделаем так $A = QR = QLLR$ Причем $QL(QL)^T = QLLQ^T = QQ^T = 1$, то есть $QL$ тоже ортоганальна. Понятно, что домножение на $L$ не могло сломать верхнетреугольность $R$.  \n",
    "Отсюда понятно, что $QLLR$ тоже законное QR разложение, но другое, отличающееся от исходного. И таких разложений как минимум $m^2$"
   ]
  },
  {
   "cell_type": "markdown",
   "metadata": {},
   "source": [
    "Check if your `q` and `r` agree with `qq` and `rr`. Explain."
   ]
  },
  {
   "cell_type": "markdown",
   "metadata": {},
   "source": [
    "*Enter your explanation here* (10% of the total grade, peer-graded)"
   ]
  },
  {
   "cell_type": "markdown",
   "metadata": {},
   "source": [
    "# Part III. Avoid forming Householder matrices explicitly."
   ]
  },
  {
   "cell_type": "markdown",
   "metadata": {},
   "source": [
    "Note the special structure of the Householder matrices: A reflector $\\mathbf{H}$ is completely specified by a reflection vector $\\mathbf{u}$. Also note that the computational cost of applying a reflector to a matrix strongly depends on the order of operations:\n",
    "\n",
    "$$\n",
    "\\left( \\mathbf{u} \\mathbf{u}^T \\right) \\mathbf{A}  \\qquad \\textrm{is } O(m^2 n)\\;,\n",
    "$$\n",
    "while\n",
    "$$\n",
    "\\mathbf{u} \\left( \\mathbf{u}^T \\mathbf{A} \\right) \\qquad \\textrm{is } O(mn)\n",
    "$$\n",
    "\n",
    "Thus, it seems to make sense to *avoid* forming the $\\mathbf{H}$ matrices. Instead, one stores the reflection vectors, $\\mathbf{u}$, themselves, and provides a way of multiplying an arbitrary matrix by $\\mathbf{Q}^T$, e.g., as a standalone function (or a class)."
   ]
  },
  {
   "cell_type": "markdown",
   "metadata": {},
   "source": [
    "Write a function which constructs the `QR` decomposition of a matrix *without ever forming the* $\\mathbf{H}$ matrices, and returns the $\\mathbf{R}$ matrix and reflection vectors. \n",
    "\n",
    "Write a second function, which uses reflection vectors to multiply a matrix with $\\mathbf{Q}^T$. Make sure to include enough comments for a marker to follow your implementation, and add tests. \n",
    "\n",
    "(Peer-graded, 40% of the total grade)"
   ]
  },
  {
   "cell_type": "code",
   "execution_count": 52,
   "metadata": {},
   "outputs": [],
   "source": [
    "def ref_vec(vec, m):#эта штука должна выдавать мне вектор отражаения, причеv я хочу, чтобы размерность была m \n",
    "    n = len(vec)\n",
    "    norm = np.linalg.norm(vec)\n",
    "    y = np.zeros(n)\n",
    "    y[0] = norm\n",
    "    u = (vec -  y)/np.linalg.norm(vec - y)\n",
    "    u = np.concatenate((np.zeros(m-n), u))\n",
    "    return u "
   ]
  },
  {
   "cell_type": "code",
   "execution_count": 53,
   "metadata": {},
   "outputs": [],
   "source": [
    "def multiplicate(u, a):#эта штука должна скушать вектор отражения и матрицу, а выдать H@a\n",
    "    ut = u@a\n",
    "    return a - 2*np.outer(u, ut)"
   ]
  },
  {
   "cell_type": "code",
   "execution_count": 54,
   "metadata": {},
   "outputs": [],
   "source": [
    "def QR(a):\n",
    "    a1 = np.array(a, copy=True, dtype=float)\n",
    "    m, n = a1.shape\n",
    "    storage = [] #хранишище векторов отражения\n",
    "    for i in range(n):\n",
    "        vec = a1[i:, i]\n",
    "        u = ref_vec(vec, m)\n",
    "        storage.append(u)\n",
    "        a1 = multiplicate(u, a1)\n",
    "    return a1, storage"
   ]
  },
  {
   "cell_type": "code",
   "execution_count": 55,
   "metadata": {},
   "outputs": [
    {
     "data": {
      "text/plain": [
       "(array([[ 1.40152769,  1.2514379 ,  0.89523615],\n",
       "        [ 0.        ,  0.84158252,  0.68447942],\n",
       "        [-0.        ,  0.        ,  0.5496046 ],\n",
       "        [ 0.        ,  0.        ,  0.        ],\n",
       "        [ 0.        ,  0.        , -0.        ]]),\n",
       " [array([-0.6570196 ,  0.42644006,  0.15011669,  0.47562065,  0.37111197]),\n",
       "  array([ 0.        , -0.52846942,  0.73983285, -0.10990213,  0.40160796]),\n",
       "  array([ 0.        ,  0.        , -0.79133207,  0.36468006, -0.49071581])])"
      ]
     },
     "execution_count": 55,
     "metadata": {},
     "output_type": "execute_result"
    }
   ],
   "source": [
    "QR(a)"
   ]
  },
  {
   "cell_type": "code",
   "execution_count": 56,
   "metadata": {},
   "outputs": [],
   "source": [
    "def Q_bilding(storage): #примитивная функция, потом придумаю что-нибудь получше\n",
    "    n = len(storage)\n",
    "    m = len(storage[0])\n",
    "    Q = np.eye(m)\n",
    "    for i in range(n):\n",
    "        vec = storage[i]\n",
    "        Q = (np.eye(m) - 2*np.outer(vec, vec))@Q\n",
    "    return Q.T"
   ]
  },
  {
   "cell_type": "code",
   "execution_count": 57,
   "metadata": {},
   "outputs": [],
   "source": [
    "Q_new = Q_bilding(QR(a)[1])"
   ]
  },
  {
   "cell_type": "code",
   "execution_count": 58,
   "metadata": {},
   "outputs": [
    {
     "data": {
      "text/plain": [
       "array([[ 0.13665049,  0.53601299, -0.09369752,  0.7697136 ,  0.30459557],\n",
       "       [ 0.56035895,  0.0935397 , -0.53326881,  0.01839528, -0.62652547],\n",
       "       [ 0.19725922,  0.65948912,  0.60068463, -0.32384673, -0.24589462],\n",
       "       [ 0.62498418, -0.50418303,  0.52144688,  0.28453698,  0.04822969],\n",
       "       [ 0.48765568,  0.12171264, -0.27224305, -0.47049398,  0.67223293]])"
      ]
     },
     "execution_count": 58,
     "metadata": {},
     "output_type": "execute_result"
    }
   ],
   "source": [
    "Q_new"
   ]
  },
  {
   "cell_type": "code",
   "execution_count": 144,
   "metadata": {},
   "outputs": [
    {
     "data": {
      "text/plain": [
       "array([[ 1., -0.,  0.,  0.,  0.],\n",
       "       [-0.,  1.,  0.,  0.,  0.],\n",
       "       [ 0.,  0.,  1., -0., -0.],\n",
       "       [ 0.,  0., -0.,  1., -0.],\n",
       "       [ 0.,  0., -0., -0.,  1.]])"
      ]
     },
     "execution_count": 144,
     "metadata": {},
     "output_type": "execute_result"
    }
   ],
   "source": [
    "Q_new@Q_new.T"
   ]
  },
  {
   "cell_type": "code",
   "execution_count": 23,
   "metadata": {},
   "outputs": [
    {
     "data": {
      "text/plain": [
       "array([[ 0.,  0.,  0.],\n",
       "       [-0.,  0.,  0.],\n",
       "       [-0.,  0., -0.],\n",
       "       [-0., -0., -0.],\n",
       "       [ 0., -0., -0.]])"
      ]
     },
     "execution_count": 23,
     "metadata": {},
     "output_type": "execute_result"
    }
   ],
   "source": [
    "Q_new@QR(a)[0] -a"
   ]
  },
  {
   "cell_type": "markdown",
   "metadata": {},
   "source": [
    "В общем идея такая. Мы знаем, что композиция нечетного числа отражений это снова отражение, а отражение у нас определяется всего одним вектором. То есть надо проследить только за путем одной точки через $2n -1$ отражение и по ней и ее образу построить новое отражение. Выглядит как план.  \n",
    "Итак, есть вектора $u_1, u_2 ... u_n$ в качестве начальной точки берем собственно $u_1$, последовательно применяем к ней $1 - 2u_n u_n^T$ пока не победим и строим отражение"
   ]
  },
  {
   "cell_type": "code",
   "execution_count": 82,
   "metadata": {},
   "outputs": [],
   "source": [
    "def helpme(final, initial): #должна взять две точки и построить такое отражение, которое перегоняет одну в \n",
    "    # другую\n",
    "    v = (final - initial)/np.linalg.norm(final - initial)\n",
    "    H = np.eye(len(final)) - 2*np.outer(v, v)\n",
    "    return H\n",
    "# функция по своей сути симметрична, пофиг в каком порядке давать ей аргументы"
   ]
  },
  {
   "cell_type": "code",
   "execution_count": 137,
   "metadata": {},
   "outputs": [],
   "source": [
    "def updQ_bilding(storage): #должно быть быстрее по идее, чем неапдейтнутый вариант\n",
    "    n = len(storage)\n",
    "    m = len(storage[0])\n",
    "    Q = np.eye(m)\n",
    "    \n",
    "    if (n < 3): # ну в этом случае просто нет смысла что-то еще делать\n",
    "        Q = Q_bilding(storage) \n",
    "        return Q\n",
    "    k = n - (1- n%2) #ближайшее нечетное снизу\n",
    "    final = storage[0]\n",
    "    for i in range(k):\n",
    "        vec = storage[i]\n",
    "        final = final - 2*(vec@final)*vec\n",
    "        final = final/np.linalg.norm(final)\n",
    "    Q = helpme(final, storage[0]) \n",
    "    if (n - k) == 1:\n",
    "        Q = (np.eye(m) - 2*np.outer(storage[-1], storage[-1]) )@Q\n",
    "        print('flag')\n",
    "    return Q.T"
   ]
  },
  {
   "cell_type": "code",
   "execution_count": 138,
   "metadata": {},
   "outputs": [
    {
     "data": {
      "text/plain": [
       "array([[0., 1.],\n",
       "       [1., 0.]])"
      ]
     },
     "execution_count": 138,
     "metadata": {},
     "output_type": "execute_result"
    }
   ],
   "source": [
    "helpme(np.array([1, 0]), np.array([0, 1]))"
   ]
  },
  {
   "cell_type": "code",
   "execution_count": 141,
   "metadata": {},
   "outputs": [
    {
     "data": {
      "text/plain": [
       "array([[ 0.55267703,  0.62225368,  0.83386777,  0.83914915,  1.28846581],\n",
       "       [ 0.577943  ,  0.87081309,  0.89534402,  1.11909343,  1.092673  ],\n",
       "       [ 0.0823483 ,  0.01041253,  1.1104397 ,  0.41942178,  0.14257312],\n",
       "       [-0.05898739, -0.00745866, -0.04263731,  0.39894937,  0.14373579],\n",
       "       [ 0.87751724,  0.11095761,  0.6342877 ,  0.31968675,  0.60489246],\n",
       "       [ 0.70961842,  0.08972766,  0.51292695,  0.25851983,  0.09794085],\n",
       "       [-0.03739011, -0.00472779, -0.02702635, -0.01362152, -0.00516055]])"
      ]
     },
     "execution_count": 141,
     "metadata": {},
     "output_type": "execute_result"
    }
   ],
   "source": [
    "rndm = np.random.RandomState(3459)\n",
    "k = rndm.uniform(size=(7, 5))\n",
    "\n",
    "qed, st = QR(k)\n",
    "updQ_bilding(st)@qed "
   ]
  },
  {
   "cell_type": "code",
   "execution_count": 142,
   "metadata": {},
   "outputs": [
    {
     "data": {
      "text/plain": [
       "array([[0.89300423, 0.29602646, 0.84324395, 0.50124763, 0.90828124],\n",
       "       [0.98447369, 0.49777379, 0.804293  , 0.79612487, 0.74891846],\n",
       "       [0.06929663, 0.06607341, 0.52658122, 0.45352045, 0.00623131],\n",
       "       [0.08244464, 0.34976609, 0.92694995, 0.53735623, 0.46123932],\n",
       "       [0.35770828, 0.41399092, 0.75771662, 0.43231041, 0.5996726 ],\n",
       "       [0.11034219, 0.15365019, 0.57349453, 0.59646969, 0.6345068 ],\n",
       "       [0.07967962, 0.71341071, 0.02267013, 0.73394101, 0.95380245]])"
      ]
     },
     "execution_count": 142,
     "metadata": {},
     "output_type": "execute_result"
    }
   ],
   "source": [
    "k"
   ]
  },
  {
   "cell_type": "code",
   "execution_count": 109,
   "metadata": {},
   "outputs": [],
   "source": [
    "\n",
    "\n",
    "rndm = np.random.RandomState(1234)\n",
    "b = rndm.uniform(size=(7, 5))\n",
    "r2, st = QR(b)\n",
    "q2 = Q_bilding(QR(b)[1])\n",
    "assert_allclose(np.dot(q2, q2.T), np.eye(7), atol=1e-10)\n",
    "\n",
    "assert_allclose(np.dot(q2, r2), b)"
   ]
  },
  {
   "cell_type": "code",
   "execution_count": 25,
   "metadata": {},
   "outputs": [],
   "source": [
    "rndm = np.random.RandomState(4356)\n",
    "b = rndm.uniform(size=(7, 5))\n",
    "r2, st = QR(b)\n",
    "q2 = Q_bilding(QR(b)[1])\n",
    "assert_allclose(np.dot(q2, q2.T), np.eye(7), atol=1e-10)\n",
    "\n",
    "assert_allclose(np.dot(q2, r2), b)"
   ]
  },
  {
   "cell_type": "code",
   "execution_count": 26,
   "metadata": {},
   "outputs": [],
   "source": [
    "rndm = np.random.RandomState(823)\n",
    "b = rndm.uniform(size=(7, 5))\n",
    "r2, st = QR(b)\n",
    "q2 = Q_bilding(QR(b)[1])\n",
    "assert_allclose(np.dot(q2, q2.T), np.eye(7), atol=1e-10)\n",
    "\n",
    "assert_allclose(np.dot(q2, r2), b)"
   ]
  },
  {
   "cell_type": "markdown",
   "metadata": {},
   "source": [
    "Ну вроде я много на чем попробовал, кажется работает."
   ]
  },
  {
   "cell_type": "code",
   "execution_count": null,
   "metadata": {},
   "outputs": [],
   "source": []
  }
 ],
 "metadata": {
  "kernelspec": {
   "display_name": "Python 3",
   "language": "python",
   "name": "python3"
  },
  "language_info": {
   "codemirror_mode": {
    "name": "ipython",
    "version": 3
   },
   "file_extension": ".py",
   "mimetype": "text/x-python",
   "name": "python",
   "nbconvert_exporter": "python",
   "pygments_lexer": "ipython3",
   "version": "3.7.5"
  }
 },
 "nbformat": 4,
 "nbformat_minor": 2
}
