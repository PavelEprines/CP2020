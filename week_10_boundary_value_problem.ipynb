{
 "cells": [
  {
   "cell_type": "markdown",
   "metadata": {},
   "source": [
    "# Boundary value problem\n",
    "\n",
    "### In general case:\n",
    "\n",
    "$L[y]=y''+p(x)y'+q(x)y=f(x)$\n",
    "\n",
    "$l_a[y]=\\alpha_0y(a)+\\alpha_1y'(a)=A$\n",
    "\n",
    "$l_b[y]=\\beta_0y(b)+\\beta_1y'(b)=B$\n",
    "\n",
    "for $x\\in[a,b]$\n",
    "\n",
    "## 1. Consider the following boundary value problem:\n",
    "\n",
    "$\\frac{d^2y}{dx^2}-\\frac{dy}{dx}\\ln(x)-2y=1$ for $x \\in [0.5,1.5]$\n",
    "\n",
    "### with the boundary conditions:\n",
    "\n",
    "$y(0.5)+y'(0.5)=1$, $y(1.5)-y'(1.5)=0$\n",
    "\n",
    "1.1. Solve this problem using finite difference method of the second order. Use the uniform grid. Is this method stable for step size $h=0.125$? Find number of grid points required to achieve accuracy of the order of 1e-6.\n",
    "\n",
    "### *Don't forget to include the boundary conditions!*\n",
    "\n",
    "1.2. Use the first order one-sided numerical approximation for the first derivative and write a new scheme. Find number of grid points required to achieve accuracy of the order of 1e-6.\n",
    "\n",
    "1.3. Plot the solutions of both methods on the same figure. Compare results and discuss differences (if occurs)."
   ]
  },
  {
   "cell_type": "code",
   "execution_count": 269,
   "metadata": {},
   "outputs": [],
   "source": [
    "import numpy as np\n",
    "import matplotlib.pyplot as plt\n",
    "from scipy.linalg import solve\n",
    "import scipy.integrate as integrate"
   ]
  },
  {
   "cell_type": "code",
   "execution_count": 74,
   "metadata": {},
   "outputs": [],
   "source": [
    "alpha = np.array([1, 1])\n",
    "A = 1\n",
    "beta = np.array([1, -1])\n",
    "B = 0\n",
    "a = 0.5\n",
    "b = 1.5\n",
    "N = 1000\n",
    "x = np.linspace(a, b, N)"
   ]
  },
  {
   "cell_type": "code",
   "execution_count": 75,
   "metadata": {},
   "outputs": [],
   "source": [
    "p = lambda x: -np.log(x)\n",
    "p = np.vectorize(p)\n",
    "q = lambda x: -2\n",
    "q = np.vectorize(q)\n",
    "f = lambda x: 1\n",
    "f = np.vectorize(f)"
   ]
  },
  {
   "cell_type": "code",
   "execution_count": 102,
   "metadata": {},
   "outputs": [],
   "source": [
    "\n",
    "\n",
    "#1.1.\n",
    "def SecondOrderScheme(a,b,A,B,alpha,beta,p,q,f,N=100):\n",
    "    # in:\n",
    "    # a,b - float, limits of x, N - int, number of grid points\n",
    "    # A,B - float, boundary values\n",
    "    # alpha, beta - array of float, coefficients for boundary conditions in general case\n",
    "    # p(x), g(x), f(x) - functions from general equation\n",
    "    \n",
    "    #you can construct matrix of the system and use scipy.linalg.solve method to solve it: y=solve(M,f)\n",
    "    \n",
    "    # out: \n",
    "    # y - array of float, solution of the BVP\n",
    "    h = (b - a)/N\n",
    "    M = np.zeros((N, N))\n",
    "    x = np.linspace(a, b, N)\n",
    "    vf = f(x)*h**2 #делаем правый вектор\n",
    "    vf[0] = A*h**2\n",
    "    vf[-1] = B*h**2\n",
    "    M += (np.diagflat(np.ones(N-1), 1) + np.diagflat(np.ones(N-1), -1) - 2*np.diagflat(np.ones(N)))\n",
    "    #это вторая производная\n",
    "    M += h*(np.diagflat(p(x[:-1]), 1)  - np.diagflat(p(x[1:]), -1))/2\n",
    "    # это первая производная на p\n",
    "    M += np.diagflat(q(x))*h**2 #это свободный член\n",
    "    M[0, 0] = alpha[0]*h**2 - 1.5*alpha[1]*h #не придумал ничего лучше, чем написать гран условия вручную\n",
    "    M[0, 1] = 2*alpha[1]*h\n",
    "    M[0, 2] = -0.5*alpha[1]*h\n",
    "    M[-1, -1] = beta[0]*h**2 + 1.5*beta[1]*h\n",
    "    M[-1, -2] = -2*beta[1]*h\n",
    "    M[-1, -3] = 0.5*beta[1]*h\n",
    "    return solve(M, vf)\n",
    "\n",
    "#1.2.\n",
    "def FirstOrderScheme(a,b,A,B,alpha,beta,p,q,f,N=100):\n",
    "    # in:\n",
    "    # a,b - float, limits of x, N - int, number of grid points\n",
    "    # A,B - float, boundary values\n",
    "    # alpha, beta - array of float, coefficients for boundary conditions in general case\n",
    "    # p(x), g(x), f(x) - functions from general equation\n",
    "    \n",
    "    #you can construct matrix of the system and use scipy.linalg.solve method to solve it: y=solve(M,f)\n",
    "    \n",
    "    # out: \n",
    "    # y - array of float, solution of the BVP\n",
    "    h = (b - a)/N\n",
    "    M = np.zeros((N, N))\n",
    "    x = np.linspace(a, b, N)\n",
    "    vf = f(x)*h**2 #делаем правый вектор\n",
    "    vf[0] = A*h**2\n",
    "    vf[-1] = B*h**2\n",
    "    M += (np.diagflat(np.ones(N-1), 1) + np.diagflat(np.ones(N-1), -1) - 2*np.diagflat(np.ones(N)))\n",
    "    #это вторая производная\n",
    "    M += (np.diagflat(p(x[:-1]), 1)  - np.diagflat(p(x)))*h\n",
    "    # это первая производная на p\n",
    "    M += np.diagflat(q(x))*h**2 #это свободный член\n",
    "    M[0, 0] = alpha[0]*h**2 - alpha[1]*h #не придумал ничего лучше, чем написать гран условия вручную\n",
    "    M[0, 1] = alpha[1]*h\n",
    "    M[-1, -1] = beta[0]*h**2 + beta[1]*h\n",
    "    M[-1, -2] = -beta[1]*h\n",
    "    return solve(M, vf)"
   ]
  },
  {
   "cell_type": "code",
   "execution_count": 103,
   "metadata": {},
   "outputs": [],
   "source": [
    "from timeit import default_timer as timer"
   ]
  },
  {
   "cell_type": "code",
   "execution_count": 104,
   "metadata": {},
   "outputs": [
    {
     "name": "stdout",
     "output_type": "stream",
     "text": [
      "0.10023233399988385\n",
      "0.06230961999972351\n"
     ]
    }
   ],
   "source": [
    "start = timer()\n",
    "y1 = FirstOrderScheme(a, b, A, B, alpha, beta, p, q, f, N)\n",
    "end = timer()\n",
    "print(end - start)\n",
    "\n",
    "start = timer()\n",
    "y2 = SecondOrderScheme(a, b, A, B, alpha, beta, p, q, f, N)\n",
    "end = timer()\n",
    "print(end - start) \n",
    "\n"
   ]
  },
  {
   "cell_type": "code",
   "execution_count": 105,
   "metadata": {},
   "outputs": [
    {
     "data": {
      "text/plain": [
       "<matplotlib.legend.Legend at 0x7f610a8bf750>"
      ]
     },
     "execution_count": 105,
     "metadata": {},
     "output_type": "execute_result"
    },
    {
     "data": {
      "image/png": "[encoded data removed]",
      "text/plain": [
       "<Figure size 720x444.96 with 1 Axes>"
      ]
     },
     "metadata": {
      "needs_background": "light"
     },
     "output_type": "display_data"
    }
   ],
   "source": [
    "fig, ax = plt.subplots(figsize = (10, 6.18))\n",
    "ax.plot(x, y2, label = '2st order')\n",
    "ax.plot(x, y1, label = '1st order')\n",
    "ax.legend(fontsize = 14.53)"
   ]
  },
  {
   "cell_type": "code",
   "execution_count": 101,
   "metadata": {},
   "outputs": [
    {
     "data": {
      "text/plain": [
       "10.644899216423063"
      ]
     },
     "execution_count": 101,
     "metadata": {},
     "output_type": "execute_result"
    }
   ],
   "source": [
    "y2[499]"
   ]
  },
  {
   "cell_type": "markdown",
   "metadata": {},
   "source": [
    "А вольфрам говорит что должно быть $\\approx 10.7595$ ну ладно, кажется терпимо. Если сравнивать с картинкой, которую рисует вольфрам, то метод второго порядка ближе к правде (ожидаемо)  \n",
    "От меня хотят увидеть $h = 0.125$, ну это можно"
   ]
  },
  {
   "cell_type": "code",
   "execution_count": 40,
   "metadata": {},
   "outputs": [
    {
     "data": {
      "text/plain": [
       "<matplotlib.legend.Legend at 0x7f610ac36b50>"
      ]
     },
     "execution_count": 40,
     "metadata": {},
     "output_type": "execute_result"
    },
    {
     "data": {
      "image/png": "[encoded data removed]",
      "text/plain": [
       "<Figure size 720x444.96 with 1 Axes>"
      ]
     },
     "metadata": {
      "needs_background": "light"
     },
     "output_type": "display_data"
    }
   ],
   "source": [
    "N = 8\n",
    "x = np.linspace(a, b, N)\n",
    "y1 = FirstOrderScheme(a, b, A, B, alpha, beta, p, q, f, N)\n",
    "y2 = SecondOrderScheme(a, b, A, B, alpha, beta, p, q, f, N)\n",
    "fig, ax = plt.subplots(figsize = (10, 6.18))\n",
    "ax.plot(x, y2, label = '2st order')\n",
    "ax.plot(x, y1, label = '1st order')\n",
    "ax.legend(fontsize = 14.53)"
   ]
  },
  {
   "cell_type": "markdown",
   "metadata": {},
   "source": [
    "Ничего общего с реальностью"
   ]
  },
  {
   "cell_type": "code",
   "execution_count": 59,
   "metadata": {},
   "outputs": [
    {
     "name": "stdout",
     "output_type": "stream",
     "text": [
      "lol\n",
      "lol\n",
      "lol\n",
      "lol\n",
      "lol\n",
      "lol\n",
      "lol\n",
      "lol\n",
      "lol\n",
      "4096\n"
     ]
    }
   ],
   "source": [
    "res = 2\n",
    "N = 8\n",
    "y1 = FirstOrderScheme(a, b, A, B, alpha, beta, p, q, f, N)\n",
    "while res > 1e-1:\n",
    "    N = 2*N\n",
    "    print('lol')\n",
    "    if N > 9000:\n",
    "        break\n",
    "    ynew = FirstOrderScheme(a, b, A, B, alpha, beta, p, q, f, N)\n",
    "    ynew2 = ynew.reshape(-1, 2)[:, 0] #выкидываем каждый второй\n",
    "    res = np.max(np.abs(y1 - ynew2))\n",
    "    y1 = ynew\n",
    "print(N)"
   ]
  },
  {
   "cell_type": "code",
   "execution_count": 43,
   "metadata": {},
   "outputs": [
    {
     "name": "stdout",
     "output_type": "stream",
     "text": [
      "lol\n",
      "lol\n",
      "lol\n",
      "lol\n",
      "lol\n",
      "lol\n",
      "lol\n",
      "lol\n",
      "lol\n",
      "lol\n",
      "8192\n"
     ]
    }
   ],
   "source": [
    "res = 2\n",
    "N = 8\n",
    "y2 = SecondOrderScheme(a, b, A, B, alpha, beta, p, q, f, N)\n",
    "while res > 1e-2:\n",
    "    N = 2*N\n",
    "    print('lol')\n",
    "    if N > 9000:\n",
    "        break\n",
    "    ynew = SecondOrderScheme(a, b, A, B, alpha, beta, p, q, f, N)\n",
    "    ynew2 = ynew.reshape(-1, 2)[:, 0] #выкидываем каждый второй\n",
    "    res = np.max(np.abs(y2 - ynew2))/3\n",
    "    y2 = ynew\n",
    "print(N)"
   ]
  },
  {
   "cell_type": "markdown",
   "metadata": {},
   "source": [
    "Ну не выходит точнее, не знаю я почему"
   ]
  },
  {
   "cell_type": "markdown",
   "metadata": {},
   "source": [
    "# 2. Consider the following boundary value problem:\n",
    "\n",
    "$\\frac{d^2y}{dx^2}+2\\frac{dy}{dx}-3xy=\\frac{2-8x}{x^3}$ for $x \\in [1,2]$\n",
    "\n",
    "### with the boundary conditions:\n",
    "\n",
    "$y(1)=1$, $y(2)=0.5$\n",
    "\n",
    "2.1. Solve this problem using finite difference method of the second order. Find number of grid points required to achieve accuracy of the order of 1e-6.\n",
    "\n",
    "2.2. Solve this problem using Galerkin method with power basis functions. Find number of grid points required to achieve accuracy of the order of 1e-6.\n",
    "\n",
    "2.3. Plot the solutions of both methods on the same figure. Compare results and discuss differences (if occurs)."
   ]
  },
  {
   "cell_type": "code",
   "execution_count": 291,
   "metadata": {},
   "outputs": [],
   "source": [
    "alpha = np.array([1, 0])\n",
    "A = 1\n",
    "beta = np.array([1, 0])\n",
    "B = 0.5\n",
    "a = 1\n",
    "b = 2\n",
    "N = 1000\n",
    "x1 = np.linspace(a, b, N)"
   ]
  },
  {
   "cell_type": "code",
   "execution_count": 107,
   "metadata": {},
   "outputs": [],
   "source": [
    "p = lambda x: 2\n",
    "p = np.vectorize(p)\n",
    "q = lambda x: -3*x\n",
    "q = np.vectorize(q)\n",
    "f = lambda x: (2 - 8*x)/x**3\n",
    "f = np.vectorize(f)"
   ]
  },
  {
   "cell_type": "code",
   "execution_count": 108,
   "metadata": {},
   "outputs": [
    {
     "name": "stdout",
     "output_type": "stream",
     "text": [
      "0.10948004099918762\n"
     ]
    }
   ],
   "source": [
    "start = timer()\n",
    "y4 = SecondOrderScheme(a, b, A, B, alpha, beta, p, q, f, N)\n",
    "end = timer()\n",
    "print(end - start) "
   ]
  },
  {
   "cell_type": "code",
   "execution_count": 109,
   "metadata": {},
   "outputs": [
    {
     "data": {
      "text/plain": [
       "[<matplotlib.lines.Line2D at 0x7f610aad7bd0>]"
      ]
     },
     "execution_count": 109,
     "metadata": {},
     "output_type": "execute_result"
    },
    {
     "data": {
      "image/png": "[encoded data removed]",
      "text/plain": [
       "<Figure size 432x288 with 1 Axes>"
      ]
     },
     "metadata": {
      "needs_background": "light"
     },
     "output_type": "display_data"
    }
   ],
   "source": [
    "plt.plot(x1, y4)"
   ]
  },
  {
   "cell_type": "code",
   "execution_count": 64,
   "metadata": {},
   "outputs": [
    {
     "name": "stdout",
     "output_type": "stream",
     "text": [
      "lol\n",
      "lol\n",
      "lol\n",
      "lol\n",
      "lol\n",
      "lol\n",
      "lol\n",
      "lol\n",
      "lol\n",
      "lol\n",
      "8192\n"
     ]
    }
   ],
   "source": [
    "res = 2\n",
    "N = 8\n",
    "y2 = SecondOrderScheme(a, b, A, B, alpha, beta, p, q, f, N)\n",
    "while res > 1e-5:\n",
    "    N = 2*N\n",
    "    print('lol')\n",
    "    if N > 9000:\n",
    "        break\n",
    "    ynew = SecondOrderScheme(a, b, A, B, alpha, beta, p, q, f, N)\n",
    "    ynew2 = ynew.reshape(-1, 2)[:, 0] #выкидываем каждый второй\n",
    "    res = np.max(np.abs(y2 - ynew2))/3\n",
    "    y2 = ynew\n",
    "print(N)"
   ]
  },
  {
   "cell_type": "markdown",
   "metadata": {},
   "source": [
    "Тут повеселей. Видимо помогает то, что граничные точки зафиксированны"
   ]
  },
  {
   "cell_type": "markdown",
   "metadata": {},
   "source": [
    "Базисные полиномы должны быть что-то типа $(2-x)x^k + 0.5(x - 1)$ чтобы удовлетворять граничным условиям"
   ]
  },
  {
   "cell_type": "code",
   "execution_count": 249,
   "metadata": {},
   "outputs": [],
   "source": [
    "def get_basis(k): #по строкам будут наши базисные вектора\n",
    "    basis = np.zeros((k, k+2))\n",
    "    one = np.zeros(k+2)\n",
    "    one2 = np.zeros(k+2)\n",
    "    one[-1] = 2\n",
    "    one[-2] = -1\n",
    "    one2[-1] = -0.5\n",
    "    one2[-2] = 0.5\n",
    "    for i in np.arange(k):\n",
    "        one3 = np.zeros(k+2)\n",
    "        one3[k+1 -i] = 1\n",
    "        basis[i] = np.convolve(one3, one)[k+1:] +one2\n",
    "    return basis "
   ]
  },
  {
   "cell_type": "code",
   "execution_count": 261,
   "metadata": {},
   "outputs": [],
   "source": [
    "def get_Lbasis(basis, k):#это фунция после того как на нее подействовал оператор L\n",
    "    Lbasis = np.zeros((k, k+2))\n",
    "    for i in np.arange(k):\n",
    "        y = basis[i]\n",
    "        Lbasis[i] = np.pad(np.polyder(y, 2),(2, 0)) + 2*np.pad(np.polyder(y),(1, 0)) - 3*np.convolve(y, [1, 0])[1:]\n",
    "    return Lbasis"
   ]
  },
  {
   "cell_type": "code",
   "execution_count": 265,
   "metadata": {},
   "outputs": [],
   "source": [
    "def Am(basis, Lbasis, k):\n",
    "    A = np.zeros((k, k))\n",
    "    for i in np.arange(k):\n",
    "        for j in np.arange(k):\n",
    "            y = np.convolve(basis[i], Lbasis[j])\n",
    "            iny = np.polyint(y)\n",
    "            A[i, j] = np.polyval(iny, 2) - np.polyval(iny, 1)\n",
    "    return A"
   ]
  },
  {
   "cell_type": "code",
   "execution_count": 274,
   "metadata": {},
   "outputs": [],
   "source": [
    "def get_d(f, basis, k):\n",
    "    d = np.zeros(k)\n",
    "    for i in np.arange(k):\n",
    "        d[i] = integrate.quad(lambda x: f(x)*np.polyval(basis[i], x), 1, 2)[0]\n",
    "    return d"
   ]
  },
  {
   "cell_type": "code",
   "execution_count": 293,
   "metadata": {},
   "outputs": [
    {
     "name": "stdout",
     "output_type": "stream",
     "text": [
      "[ 1.43985096e+01 -3.04545064e+01  2.66435571e+01 -1.32742402e+01\n",
      "  3.70575429e+00 -5.38577645e-01  2.24348645e-02]\n"
     ]
    }
   ],
   "source": [
    "k = 7\n",
    "basis = get_basis(k)\n",
    "Lbasis = get_Lbasis(basis, k)\n",
    "M = Am(basis, Lbasis, k)\n",
    "d = get_d(f, basis, k)\n",
    "c = solve(M, d)\n",
    "print(c)\n",
    "poly = np.zeros(k+2)\n",
    "for i in range(k): #мне рил лень думать как это сделать нормально\n",
    "    poly += basis[i]*c[i]\n",
    "func = lambda x: np.polyval(poly, x)"
   ]
  },
  {
   "cell_type": "code",
   "execution_count": 294,
   "metadata": {},
   "outputs": [
    {
     "data": {
      "text/plain": [
       "[<matplotlib.lines.Line2D at 0x7f61066eded0>]"
      ]
     },
     "execution_count": 294,
     "metadata": {},
     "output_type": "execute_result"
    },
    {
     "data": {
      "image/png": "[encoded data removed]",
      "text/plain": [
       "<Figure size 432x288 with 1 Axes>"
      ]
     },
     "metadata": {
      "needs_background": "light"
     },
     "output_type": "display_data"
    }
   ],
   "source": [
    "plt.plot(x1, func(x1))"
   ]
  },
  {
   "cell_type": "markdown",
   "metadata": {},
   "source": [
    "Ну провал и провал. Что поделать, все равно нет ни сил, ни желания разбираться что тут не так.  "
   ]
  },
  {
   "cell_type": "markdown",
   "metadata": {},
   "source": [
    "## Поставьте троечку, пожалуйста"
   ]
  },
  {
   "cell_type": "code",
   "execution_count": null,
   "metadata": {},
   "outputs": [],
   "source": []
  }
 ],
 "metadata": {
  "kernelspec": {
   "display_name": "Python 3",
   "language": "python",
   "name": "python3"
  },
  "language_info": {
   "codemirror_mode": {
    "name": "ipython",
    "version": 3
   },
   "file_extension": ".py",
   "mimetype": "text/x-python",
   "name": "python",
   "nbconvert_exporter": "python",
   "pygments_lexer": "ipython3",
   "version": "3.7.6"
  }
 },
 "nbformat": 4,
 "nbformat_minor": 2
}
